{
 "cells": [
  {
   "cell_type": "markdown",
   "id": "ce19ef30-8a10-4fec-994f-de71b3ef882c",
   "metadata": {},
   "source": [
    "# Final Project"
   ]
  },
  {
   "cell_type": "markdown",
   "id": "44bf0067-8a38-4ba9-9035-e3f368179a43",
   "metadata": {},
   "source": [
    "## Introduction\n",
    "This notebook presents basic markdown and code cell exercises used in Data Science."
   ]
  },
  {
   "cell_type": "markdown",
   "id": "0b091bff-0b36-4d8c-a116-db84d83aa9fe",
   "metadata": {},
   "source": [
    "### Languages Used in Data Science\n",
    "- Python\n",
    "- R\n",
    "- SQL\n",
    "- Julia\n",
    "- Scala\n"
   ]
  },
  {
   "cell_type": "markdown",
   "id": "341ddd4d-bbf6-41d6-afec-6e2de07d01c7",
   "metadata": {},
   "source": [
    "### Popular Data Science Libraries\n",
    "- Pandas\n",
    "- NumPy\n",
    "- Matplotlib\n",
    "- Seaborn\n",
    "- Scikit-learn\n",
    "- TensorFlow\n",
    "- Keras\n"
   ]
  },
  {
   "cell_type": "markdown",
   "id": "d4dd1bdc-1853-4dd7-a9df-dfd051251e47",
   "metadata": {},
   "source": [
    "### Data Science Tools\n",
    "\n",
    "| Tool             | Description                      |\n",
    "|------------------|----------------------------------|\n",
    "| Jupyter Notebook | Interactive coding environment   |\n",
    "| RStudio          | IDE for R                        |\n",
    "| Apache Spark     | Big Data processing              |\n",
    "| Tableau          | Data visualization tool          |\n"
   ]
  },
  {
   "cell_type": "markdown",
   "id": "88b520e4-046a-44c9-8189-5d8604a6df37",
   "metadata": {},
   "source": [
    "### Examples of Arithmetic Expressions\n",
    "Below are some examples of using arithmetic operations in Python.\n"
   ]
  },
  {
   "cell_type": "code",
   "execution_count": 4,
   "id": "190af867-332b-4707-ab6c-e1fdfa8887ec",
   "metadata": {},
   "outputs": [
    {
     "data": {
      "text/plain": [
       "23"
      ]
     },
     "execution_count": 4,
     "metadata": {},
     "output_type": "execute_result"
    }
   ],
   "source": [
    "# Multiply and add numbers\n",
    "result = (5 * 4) + 3\n",
    "result"
   ]
  },
  {
   "cell_type": "code",
   "execution_count": 5,
   "id": "7d6b5b50-0841-4991-8ec0-fd652c060f2d",
   "metadata": {},
   "outputs": [
    {
     "data": {
      "text/plain": [
       "2.0"
      ]
     },
     "execution_count": 5,
     "metadata": {},
     "output_type": "execute_result"
    }
   ],
   "source": [
    "# Convert minutes to hours\n",
    "minutes = 120\n",
    "hours = minutes / 60\n",
    "hours"
   ]
  },
  {
   "cell_type": "markdown",
   "id": "1789b33c-9149-4d32-871a-c95987201142",
   "metadata": {},
   "source": [
    "### Objectives\n",
    "- Understand the structure of a Jupyter Notebook\n",
    "- Learn to use markdown cells for formatting\n",
    "- Practice basic Python arithmetic operations\n",
    "- Identify tools, languages, and libraries used in Data Science\n"
   ]
  },
  {
   "cell_type": "markdown",
   "id": "cf2b6329-8d18-4328-8243-de2a6c455f3d",
   "metadata": {},
   "source": [
    "### Author\n",
    "Junaid Ul Islam"
   ]
  },
  {
   "cell_type": "markdown",
   "id": "081da025-9055-4cbf-a3ed-7175fefd9b86",
   "metadata": {},
   "source": [
    "### GitHub Sharing\n",
    "[View this notebook on GitHub](https://github.com/desmondvidic/IBM_Data_Science/tree/main/C2-Tools_for_Data_Science)"
   ]
  },
  {
   "cell_type": "code",
   "execution_count": null,
   "id": "f7f740f5-6323-4c27-b9f4-91a973d2ec7a",
   "metadata": {},
   "outputs": [],
   "source": [
    "### Screenshot of First Page\n",
    "*(Insert a screenshot of the first page of this notebook here)*\n"
   ]
  }
 ],
 "metadata": {
  "kernelspec": {
   "display_name": "Python 3 (ipykernel)",
   "language": "python",
   "name": "python3"
  },
  "language_info": {
   "codemirror_mode": {
    "name": "ipython",
    "version": 3
   },
   "file_extension": ".py",
   "mimetype": "text/x-python",
   "name": "python",
   "nbconvert_exporter": "python",
   "pygments_lexer": "ipython3",
   "version": "3.13.5"
  }
 },
 "nbformat": 4,
 "nbformat_minor": 5
}
